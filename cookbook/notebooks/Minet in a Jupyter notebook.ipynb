{
 "cells": [
  {
   "cell_type": "markdown",
   "id": "hispanic-version",
   "metadata": {},
   "source": [
    "# Using minet in a Jupyter notebook\n",
    "\n",
    "`minet` being first and foremost a python CLI tool and library, it can naturally be used in a Jupyter notebook and this makes it a very good tool to experiment with. As such it can for instance very easily be used by students in digital humanities, data science or webmining classes."
   ]
  },
  {
   "cell_type": "markdown",
   "id": "numeric-eclipse",
   "metadata": {},
   "source": [
    "## Installing minet in a Jupyter notebook\n",
    "\n",
    "On a machine that supports python, `minet` can naturally be installed using `pip` in your favorite python environment running before starting your notebook:\n",
    "\n",
    "```bash\n",
    "pip install minet\n",
    "```\n",
    "\n",
    "But sometimes, the notebooks won't be run from your machine, for instance if you use some notebooks hosted by a university for their students or when using [Google Collab](https://colab.research.google.com/) (which we wholeheartedly recommend as a way to let anyone experiment with python notebooks very easily without the drag of installing a working python environment on a wide variety of machines and OSes).\n",
    "\n",
    "But don't worry. There is an easy solution to this, you see, because one feature of Jupyter notebooks which is often overlooked is its ability to run shell commands when prefixing one of your code cells by `!` as in this example below:"
   ]
  },
  {
   "cell_type": "code",
   "execution_count": 1,
   "id": "awful-lounge",
   "metadata": {},
   "outputs": [
    {
     "name": "stdout",
     "output_type": "stream",
     "text": [
      "Requirement already satisfied: minet in /Users/Yomgui/.pyenv/versions/3.6.10/envs/jupyter/lib/python3.6/site-packages (0.47.0)\n",
      "Requirement already satisfied: ndjson>=0.3.1 in /Users/Yomgui/.pyenv/versions/3.6.10/envs/jupyter/lib/python3.6/site-packages (from minet) (0.3.1)\n",
      "Requirement already satisfied: lxml>=4.3.0 in /Users/Yomgui/.pyenv/versions/3.6.10/envs/jupyter/lib/python3.6/site-packages (from minet) (4.6.2)\n",
      "Requirement already satisfied: casanova==0.10.1 in /Users/Yomgui/.pyenv/versions/3.6.10/envs/jupyter/lib/python3.6/site-packages (from minet) (0.10.1)\n",
      "Requirement already satisfied: pyyaml in /Users/Yomgui/.pyenv/versions/3.6.10/envs/jupyter/lib/python3.6/site-packages (from minet) (5.4.1)\n",
      "Requirement already satisfied: trafilatura<0.9,>=0.8.1 in /Users/Yomgui/.pyenv/versions/3.6.10/envs/jupyter/lib/python3.6/site-packages (from minet) (0.8.1)\n",
      "Requirement already satisfied: dateparser>=1.0.0 in /Users/Yomgui/.pyenv/versions/3.6.10/envs/jupyter/lib/python3.6/site-packages (from minet) (1.0.0)\n",
      "Requirement already satisfied: cchardet>=2.1.7 in /Users/Yomgui/.pyenv/versions/3.6.10/envs/jupyter/lib/python3.6/site-packages (from minet) (2.1.7)\n",
      "Requirement already satisfied: persist-queue>=0.4.2 in /Users/Yomgui/.pyenv/versions/3.6.10/envs/jupyter/lib/python3.6/site-packages (from minet) (0.5.1)\n",
      "Requirement already satisfied: tqdm>=4.31.1 in /Users/Yomgui/.pyenv/versions/3.6.10/envs/jupyter/lib/python3.6/site-packages (from minet) (4.59.0)\n",
      "Requirement already satisfied: twitwi>=0.5.0 in /Users/Yomgui/.pyenv/versions/3.6.10/envs/jupyter/lib/python3.6/site-packages (from minet) (0.5.1)\n",
      "Requirement already satisfied: ural>=0.27.1 in /Users/Yomgui/.pyenv/versions/3.6.10/envs/jupyter/lib/python3.6/site-packages (from minet) (0.27.1)\n",
      "Requirement already satisfied: tenacity>=6.3.1 in /Users/Yomgui/.pyenv/versions/3.6.10/envs/jupyter/lib/python3.6/site-packages (from minet) (7.0.0)\n",
      "Requirement already satisfied: urllib3[secure]>=1.25.3 in /Users/Yomgui/.pyenv/versions/3.6.10/envs/jupyter/lib/python3.6/site-packages (from minet) (1.26.4)\n",
      "Requirement already satisfied: keyring<19.3 in /Users/Yomgui/.pyenv/versions/3.6.10/envs/jupyter/lib/python3.6/site-packages (from minet) (19.2.0)\n",
      "Requirement already satisfied: quenouille>=0.6.6 in /Users/Yomgui/.pyenv/versions/3.6.10/envs/jupyter/lib/python3.6/site-packages (from minet) (0.6.6)\n",
      "Requirement already satisfied: json5>=0.8.5 in /Users/Yomgui/.pyenv/versions/3.6.10/envs/jupyter/lib/python3.6/site-packages (from minet) (0.9.5)\n",
      "Requirement already satisfied: beautifulsoup4>=4.7.1 in /Users/Yomgui/.pyenv/versions/3.6.10/envs/jupyter/lib/python3.6/site-packages (from minet) (4.9.3)\n",
      "Requirement already satisfied: browser-cookie3==0.12.0 in /Users/Yomgui/.pyenv/versions/3.6.10/envs/jupyter/lib/python3.6/site-packages (from minet) (0.12.0)\n",
      "Requirement already satisfied: ebbe>=1.0.0 in /Users/Yomgui/.pyenv/versions/3.6.10/envs/jupyter/lib/python3.6/site-packages (from minet) (1.1.0)\n",
      "Requirement already satisfied: pyaes in /Users/Yomgui/.pyenv/versions/3.6.10/envs/jupyter/lib/python3.6/site-packages (from browser-cookie3==0.12.0->minet) (1.6.1)\n",
      "Requirement already satisfied: pbkdf2 in /Users/Yomgui/.pyenv/versions/3.6.10/envs/jupyter/lib/python3.6/site-packages (from browser-cookie3==0.12.0->minet) (1.3)\n",
      "Requirement already satisfied: pycryptodome in /Users/Yomgui/.pyenv/versions/3.6.10/envs/jupyter/lib/python3.6/site-packages (from browser-cookie3==0.12.0->minet) (3.10.1)\n",
      "Requirement already satisfied: lz4 in /Users/Yomgui/.pyenv/versions/3.6.10/envs/jupyter/lib/python3.6/site-packages (from browser-cookie3==0.12.0->minet) (3.1.3)\n",
      "Requirement already satisfied: SecretStorage in /Users/Yomgui/.pyenv/versions/3.6.10/envs/jupyter/lib/python3.6/site-packages (from browser-cookie3==0.12.0->minet) (3.3.1)\n",
      "Requirement already satisfied: file-read-backwards>=2.0.0 in /Users/Yomgui/.pyenv/versions/3.6.10/envs/jupyter/lib/python3.6/site-packages (from casanova==0.10.1->minet) (2.0.0)\n",
      "Requirement already satisfied: soupsieve>1.2 in /Users/Yomgui/.pyenv/versions/3.6.10/envs/jupyter/lib/python3.6/site-packages (from beautifulsoup4>=4.7.1->minet) (2.2)\n",
      "Requirement already satisfied: pytz in /Users/Yomgui/.pyenv/versions/3.6.10/envs/jupyter/lib/python3.6/site-packages (from dateparser>=1.0.0->minet) (2021.1)\n",
      "Requirement already satisfied: python-dateutil in /Users/Yomgui/.pyenv/versions/3.6.10/envs/jupyter/lib/python3.6/site-packages (from dateparser>=1.0.0->minet) (2.8.1)\n",
      "Requirement already satisfied: tzlocal in /Users/Yomgui/.pyenv/versions/3.6.10/envs/jupyter/lib/python3.6/site-packages (from dateparser>=1.0.0->minet) (2.1)\n",
      "Requirement already satisfied: regex!=2019.02.19 in /Users/Yomgui/.pyenv/versions/3.6.10/envs/jupyter/lib/python3.6/site-packages (from dateparser>=1.0.0->minet) (2020.11.13)\n",
      "Requirement already satisfied: entrypoints in /Users/Yomgui/.pyenv/versions/3.6.10/envs/jupyter/lib/python3.6/site-packages (from keyring<19.3->minet) (0.3)\n",
      "Requirement already satisfied: six>=1.9.0 in /Users/Yomgui/.pyenv/versions/3.6.10/envs/jupyter/lib/python3.6/site-packages (from tenacity>=6.3.1->minet) (1.15.0)\n",
      "Requirement already satisfied: readability-lxml>=0.8.1 in /Users/Yomgui/.pyenv/versions/3.6.10/envs/jupyter/lib/python3.6/site-packages (from trafilatura<0.9,>=0.8.1->minet) (0.8.1)\n",
      "Requirement already satisfied: courlan>=0.3.1 in /Users/Yomgui/.pyenv/versions/3.6.10/envs/jupyter/lib/python3.6/site-packages (from trafilatura<0.9,>=0.8.1->minet) (0.3.1)\n",
      "Requirement already satisfied: chardet>=3.0.4 in /Users/Yomgui/.pyenv/versions/3.6.10/envs/jupyter/lib/python3.6/site-packages (from trafilatura<0.9,>=0.8.1->minet) (4.0.0)\n",
      "Requirement already satisfied: htmldate>=0.8.1 in /Users/Yomgui/.pyenv/versions/3.6.10/envs/jupyter/lib/python3.6/site-packages (from trafilatura<0.9,>=0.8.1->minet) (0.8.1)\n",
      "Requirement already satisfied: justext>=2.2.0 in /Users/Yomgui/.pyenv/versions/3.6.10/envs/jupyter/lib/python3.6/site-packages (from trafilatura<0.9,>=0.8.1->minet) (2.2.0)\n",
      "Requirement already satisfied: certifi in /Users/Yomgui/.pyenv/versions/3.6.10/envs/jupyter/lib/python3.6/site-packages (from trafilatura<0.9,>=0.8.1->minet) (2020.12.5)\n",
      "Requirement already satisfied: tld in /Users/Yomgui/.pyenv/versions/3.6.10/envs/jupyter/lib/python3.6/site-packages (from courlan>=0.3.1->trafilatura<0.9,>=0.8.1->minet) (0.12.5)\n",
      "Requirement already satisfied: cssselect in /Users/Yomgui/.pyenv/versions/3.6.10/envs/jupyter/lib/python3.6/site-packages (from readability-lxml>=0.8.1->trafilatura<0.9,>=0.8.1->minet) (1.1.0)\n",
      "Requirement already satisfied: twitter>=1.18.0 in /Users/Yomgui/.pyenv/versions/3.6.10/envs/jupyter/lib/python3.6/site-packages (from twitwi>=0.5.0->minet) (1.18.0)\n",
      "Requirement already satisfied: phylactery>=0.2.2 in /Users/Yomgui/.pyenv/versions/3.6.10/envs/jupyter/lib/python3.6/site-packages (from ural>=0.27.1->minet) (0.2.2)\n",
      "Requirement already satisfied: pycountry<19,>=18.12.8 in /Users/Yomgui/.pyenv/versions/3.6.10/envs/jupyter/lib/python3.6/site-packages (from ural>=0.27.1->minet) (18.12.8)\n",
      "Requirement already satisfied: cryptography>=1.3.4 in /Users/Yomgui/.pyenv/versions/3.6.10/envs/jupyter/lib/python3.6/site-packages (from urllib3[secure]>=1.25.3->minet) (3.4.6)\n",
      "Requirement already satisfied: idna>=2.0.0 in /Users/Yomgui/.pyenv/versions/3.6.10/envs/jupyter/lib/python3.6/site-packages (from urllib3[secure]>=1.25.3->minet) (3.1)\n",
      "Requirement already satisfied: pyOpenSSL>=0.14 in /Users/Yomgui/.pyenv/versions/3.6.10/envs/jupyter/lib/python3.6/site-packages (from urllib3[secure]>=1.25.3->minet) (20.0.1)\n",
      "Requirement already satisfied: cffi>=1.12 in /Users/Yomgui/.pyenv/versions/3.6.10/envs/jupyter/lib/python3.6/site-packages (from cryptography>=1.3.4->urllib3[secure]>=1.25.3->minet) (1.14.5)\n",
      "Requirement already satisfied: pycparser in /Users/Yomgui/.pyenv/versions/3.6.10/envs/jupyter/lib/python3.6/site-packages (from cffi>=1.12->cryptography>=1.3.4->urllib3[secure]>=1.25.3->minet) (2.20)\n",
      "Requirement already satisfied: jeepney>=0.6 in /Users/Yomgui/.pyenv/versions/3.6.10/envs/jupyter/lib/python3.6/site-packages (from SecretStorage->browser-cookie3==0.12.0->minet) (0.6.0)\n"
     ]
    }
   ],
   "source": [
    "!pip install minet"
   ]
  },
  {
   "cell_type": "markdown",
   "id": "introductory-publicity",
   "metadata": {},
   "source": [
    "Now that `minet` seems to be installed, let's run it to make sure of this and assess which version we will be working with:"
   ]
  },
  {
   "cell_type": "code",
   "execution_count": 2,
   "id": "specialized-basic",
   "metadata": {},
   "outputs": [
    {
     "name": "stdout",
     "output_type": "stream",
     "text": [
      "minet 0.47.0\r\n"
     ]
    }
   ],
   "source": [
    "!minet --version"
   ]
  },
  {
   "cell_type": "markdown",
   "id": "dental-trade",
   "metadata": {},
   "source": [
    "## Using minet as command line tool from a notebook\n",
    "\n",
    "Let's use minet to scrape the tweets from [@medialab_ScPo](https://twitter.com/medialab_ScPo)!"
   ]
  },
  {
   "cell_type": "code",
   "execution_count": 3,
   "id": "complicated-helicopter",
   "metadata": {},
   "outputs": [
    {
     "name": "stdout",
     "output_type": "stream",
     "text": [
      "Searching for \"from:medialab_ScPo\"                                  \n",
      "Collecting tweets: 437 tweets [00:05, 74.60 tweets/s, queries=1, tokens=1]\n"
     ]
    }
   ],
   "source": [
    "!minet twitter scrape tweets \"from:medialab_ScPo\" > tweets.csv"
   ]
  },
  {
   "cell_type": "markdown",
   "id": "tested-point",
   "metadata": {},
   "source": [
    "This should work quickly and when the command ends, you should have a `tweets.csv` file in your working directory containing all the relevant tweets.\n",
    "\n",
    "If you are working on Google Collab, this file will be accessible by clicking the \"folder\" icon on your left revealing your virtual filesystem. Be sure to download the file before exiting the notebook because Google Collab will delete any file you produced when shutting down your notebook to free resources."
   ]
  },
  {
   "cell_type": "markdown",
   "id": "approximate-grave",
   "metadata": {},
   "source": [
    "If at one point you are lost or don't remember how to use `minet` as a command line tool, be sure to either use the `h/--help` flag or go check the relevant [docs](https://github.com/medialab/minet/blob/master/docs/cli.md)."
   ]
  },
  {
   "cell_type": "code",
   "execution_count": 4,
   "id": "homeless-signal",
   "metadata": {},
   "outputs": [
    {
     "name": "stdout",
     "output_type": "stream",
     "text": [
      "usage: minet twitter scrape [-h] [--include-refs] [-l LIMIT] [-o OUTPUT]\r\n",
      "                            [--query-template QUERY_TEMPLATE] [-s SELECT]\r\n",
      "                            {tweets} query [file]\r\n",
      "\r\n",
      "Minet Twitter Scrape Command\r\n",
      "============================\r\n",
      "\r\n",
      "Scrape Twitter's public facing search API to collect tweets etc.\r\n",
      "\r\n",
      "positional arguments:\r\n",
      "  {tweets}                         What to scrape. Currently only `tweets` is possible.\r\n",
      "  query                            Search query or name of the column containing queries to run in given CSV file.\r\n",
      "  file                             Optional CSV file containing the queries to be run.\r\n",
      "\r\n",
      "optional arguments:\r\n",
      "  -h, --help                       show this help message and exit\r\n",
      "  --include-refs                   Whether to emit referenced tweets (quoted, retweeted & replied) in the CSV output. Note that it consumes a memory proportional to the total number of unique tweets retrieved.\r\n",
      "  -l LIMIT, --limit LIMIT          Maximum number of tweets to collect per query.\r\n",
      "  -o OUTPUT, --output OUTPUT       Path to the output file. By default, the result will be printed to stdout.\r\n",
      "  --query-template QUERY_TEMPLATE  Query template. Can be useful for instance to change a column of twitter user screen names into from:@user queries.\r\n",
      "  -s SELECT, --select SELECT       Columns of input CSV file to include in the output (separated by `,`).\r\n",
      "\r\n",
      "examples:\r\n",
      "\r\n",
      ". Collecting the latest 500 tweets of a given Twitter user:\r\n",
      "    `minet tw scrape tweets \"from:@jack\" --limit 500 > tweets.csv`\r\n",
      "\r\n",
      ". Collecting the tweets from multiple Twitter queries listed in a CSV file:\r\n",
      "    `minet tw scrape tweets query queries.csv > tweets.csv`\r\n",
      "\r\n",
      ". Templating the given CSV column to query tweets by users:\r\n",
      "    `minet tw scrape tweets user users.csv --query-template 'from:@{value}' > tweets.csv`\r\n"
     ]
    }
   ],
   "source": [
    "!minet twitter scrape --help"
   ]
  },
  {
   "cell_type": "markdown",
   "id": "incorporate-bacon",
   "metadata": {},
   "source": [
    "So now you should be able to compose your own commands to scrape tweets you might need. Twitter's search is quite complete and also supports a variety of search operators which you can discover by using the advanced search widget [here](https://twitter.com/search-advanced?f=live).\n",
    "\n",
    "Never forget to use the `--limit` flag when testing a query or when searching for generic things or your command will never end and at one point your hard drive will probably choke if you attempt to retrieve billions of tweets :)"
   ]
  },
  {
   "cell_type": "markdown",
   "id": "incorporate-anime",
   "metadata": {},
   "source": [
    "## Processing the results from a notebook\n",
    "\n",
    "As you are in a python environment, you can of course use the capabilities of the language to explore the resulting CSV files further.\n",
    "\n",
    "Here is an example printing our `tweets.csv` file's headers and displaying the lab's most retweeted tweet:"
   ]
  },
  {
   "cell_type": "code",
   "execution_count": 5,
   "id": "recent-quarterly",
   "metadata": {},
   "outputs": [
    {
     "name": "stdout",
     "output_type": "stream",
     "text": [
      "Headers: ['query', 'id', 'timestamp_utc', 'local_time', 'user_screen_name', 'text', 'possibly_sensitive', 'retweet_count', 'like_count', 'reply_count', 'lang', 'to_username', 'to_userid', 'to_tweetid', 'source_name', 'source_url', 'user_location', 'lat', 'lng', 'user_id', 'user_name', 'user_verified', 'user_description', 'user_url', 'user_image', 'user_tweets', 'user_followers', 'user_friends', 'user_likes', 'user_lists', 'user_created_at', 'user_timestamp_utc', 'collected_via', 'match_query', 'retweeted_id', 'retweeted_user', 'retweeted_user_id', 'retweeted_timestamp_utc', 'quoted_id', 'quoted_user', 'quoted_user_id', 'quoted_timestamp_utc', 'collection_time', 'url', 'place_country_code', 'place_name', 'place_type', 'place_coordinates', 'links', 'media_urls', 'media_files', 'media_types', 'mentioned_names', 'mentioned_ids', 'hashtags', 'intervention_type', 'intervention_text', 'intervention_url']\n",
      "\n",
      "Best tweet with 63 retweets: Ça sort aujourd'hui en libraire : l'ouvrage \"Culture #Numérique\" de @Karmacoma pour décoder les nouveaux usages apportés par la révolution numérique. #digitalrevolution #digitalculture\n",
      "https://medialab.sciencespo.fr/fr/blog/culture-numerique/ https://twitter.com/medialab_ScPo/status/1103588839740919808/photo/1\n"
     ]
    }
   ],
   "source": [
    "import csv\n",
    "\n",
    "with open('./tweets.csv') as f:\n",
    "    reader = csv.DictReader(f)\n",
    "    print('Headers:', reader.fieldnames)\n",
    "    print()\n",
    "    \n",
    "    best_tweet = max(reader, key=lambda x: int(x['retweet_count']))\n",
    "    print('Best tweet with %s retweets:' % best_tweet['retweet_count'], best_tweet['text'])"
   ]
  },
  {
   "cell_type": "markdown",
   "id": "independent-joyce",
   "metadata": {},
   "source": [
    "Here is another example using the `pandas` library:"
   ]
  },
  {
   "cell_type": "code",
   "execution_count": 6,
   "id": "single-custom",
   "metadata": {},
   "outputs": [
    {
     "data": {
      "text/html": [
       "<div>\n",
       "<style scoped>\n",
       "    .dataframe tbody tr th:only-of-type {\n",
       "        vertical-align: middle;\n",
       "    }\n",
       "\n",
       "    .dataframe tbody tr th {\n",
       "        vertical-align: top;\n",
       "    }\n",
       "\n",
       "    .dataframe thead th {\n",
       "        text-align: right;\n",
       "    }\n",
       "</style>\n",
       "<table border=\"1\" class=\"dataframe\">\n",
       "  <thead>\n",
       "    <tr style=\"text-align: right;\">\n",
       "      <th></th>\n",
       "      <th>query</th>\n",
       "      <th>id</th>\n",
       "      <th>timestamp_utc</th>\n",
       "      <th>local_time</th>\n",
       "      <th>user_screen_name</th>\n",
       "      <th>text</th>\n",
       "      <th>possibly_sensitive</th>\n",
       "      <th>retweet_count</th>\n",
       "      <th>like_count</th>\n",
       "      <th>reply_count</th>\n",
       "      <th>...</th>\n",
       "      <th>links</th>\n",
       "      <th>media_urls</th>\n",
       "      <th>media_files</th>\n",
       "      <th>media_types</th>\n",
       "      <th>mentioned_names</th>\n",
       "      <th>mentioned_ids</th>\n",
       "      <th>hashtags</th>\n",
       "      <th>intervention_type</th>\n",
       "      <th>intervention_text</th>\n",
       "      <th>intervention_url</th>\n",
       "    </tr>\n",
       "  </thead>\n",
       "  <tbody>\n",
       "    <tr>\n",
       "      <th>0</th>\n",
       "      <td>from:medialab_ScPo</td>\n",
       "      <td>1371864480540397573</td>\n",
       "      <td>1615909354</td>\n",
       "      <td>2021-03-16T16:42:34</td>\n",
       "      <td>medialab_ScPo</td>\n",
       "      <td>Mardi 23/03, @brunopatino est l'invité du sémi...</td>\n",
       "      <td>0.0</td>\n",
       "      <td>7</td>\n",
       "      <td>13</td>\n",
       "      <td>0</td>\n",
       "      <td>...</td>\n",
       "      <td>https://medialab.sciencespo.fr/actu/lien-entre...</td>\n",
       "      <td>NaN</td>\n",
       "      <td>NaN</td>\n",
       "      <td>NaN</td>\n",
       "      <td>brunopatino</td>\n",
       "      <td>11227042</td>\n",
       "      <td>NaN</td>\n",
       "      <td>NaN</td>\n",
       "      <td>NaN</td>\n",
       "      <td>NaN</td>\n",
       "    </tr>\n",
       "    <tr>\n",
       "      <th>1</th>\n",
       "      <td>from:medialab_ScPo</td>\n",
       "      <td>1371408961740673027</td>\n",
       "      <td>1615800750</td>\n",
       "      <td>2021-03-15T10:32:30</td>\n",
       "      <td>medialab_ScPo</td>\n",
       "      <td>Digital Growth Strategies : is there a new way...</td>\n",
       "      <td>0.0</td>\n",
       "      <td>7</td>\n",
       "      <td>11</td>\n",
       "      <td>0</td>\n",
       "      <td>...</td>\n",
       "      <td>https://medialab.sciencespo.fr/en/news/digital...</td>\n",
       "      <td>NaN</td>\n",
       "      <td>NaN</td>\n",
       "      <td>NaN</td>\n",
       "      <td>NaN</td>\n",
       "      <td>NaN</td>\n",
       "      <td>NaN</td>\n",
       "      <td>NaN</td>\n",
       "      <td>NaN</td>\n",
       "      <td>NaN</td>\n",
       "    </tr>\n",
       "    <tr>\n",
       "      <th>2</th>\n",
       "      <td>from:medialab_ScPo</td>\n",
       "      <td>1367834292966068226</td>\n",
       "      <td>1614948483</td>\n",
       "      <td>2021-03-05T13:48:03</td>\n",
       "      <td>medialab_ScPo</td>\n",
       "      <td>La Silicon Valley : un écosystème d’innovation...</td>\n",
       "      <td>0.0</td>\n",
       "      <td>0</td>\n",
       "      <td>1</td>\n",
       "      <td>1</td>\n",
       "      <td>...</td>\n",
       "      <td>https://sciencespo.zoom.us/meeting/register/tJ...</td>\n",
       "      <td>NaN</td>\n",
       "      <td>NaN</td>\n",
       "      <td>NaN</td>\n",
       "      <td>NaN</td>\n",
       "      <td>NaN</td>\n",
       "      <td>NaN</td>\n",
       "      <td>NaN</td>\n",
       "      <td>NaN</td>\n",
       "      <td>NaN</td>\n",
       "    </tr>\n",
       "    <tr>\n",
       "      <th>3</th>\n",
       "      <td>from:medialab_ScPo</td>\n",
       "      <td>1367750981585354754</td>\n",
       "      <td>1614928620</td>\n",
       "      <td>2021-03-05T08:17:00</td>\n",
       "      <td>medialab_ScPo</td>\n",
       "      <td>Aujourd'hui, 14h30 -&gt; TransNum s'intéresse à l...</td>\n",
       "      <td>0.0</td>\n",
       "      <td>4</td>\n",
       "      <td>9</td>\n",
       "      <td>0</td>\n",
       "      <td>...</td>\n",
       "      <td>https://medialab.sciencespo.fr/actu/silicon-va...</td>\n",
       "      <td>NaN</td>\n",
       "      <td>NaN</td>\n",
       "      <td>NaN</td>\n",
       "      <td>NaN</td>\n",
       "      <td>NaN</td>\n",
       "      <td>NaN</td>\n",
       "      <td>NaN</td>\n",
       "      <td>NaN</td>\n",
       "      <td>NaN</td>\n",
       "    </tr>\n",
       "    <tr>\n",
       "      <th>4</th>\n",
       "      <td>from:medialab_ScPo</td>\n",
       "      <td>1366433462723436550</td>\n",
       "      <td>1614614499</td>\n",
       "      <td>2021-03-01T17:01:39</td>\n",
       "      <td>medialab_ScPo</td>\n",
       "      <td>Qu'est-ce qui fait de la Silicon Valley un mod...</td>\n",
       "      <td>0.0</td>\n",
       "      <td>10</td>\n",
       "      <td>13</td>\n",
       "      <td>0</td>\n",
       "      <td>...</td>\n",
       "      <td>https://medialab.sciencespo.fr/actu/silicon-va...</td>\n",
       "      <td>NaN</td>\n",
       "      <td>NaN</td>\n",
       "      <td>NaN</td>\n",
       "      <td>NaN</td>\n",
       "      <td>NaN</td>\n",
       "      <td>NaN</td>\n",
       "      <td>NaN</td>\n",
       "      <td>NaN</td>\n",
       "      <td>NaN</td>\n",
       "    </tr>\n",
       "  </tbody>\n",
       "</table>\n",
       "<p>5 rows × 58 columns</p>\n",
       "</div>"
      ],
      "text/plain": [
       "                query                   id  timestamp_utc  \\\n",
       "0  from:medialab_ScPo  1371864480540397573     1615909354   \n",
       "1  from:medialab_ScPo  1371408961740673027     1615800750   \n",
       "2  from:medialab_ScPo  1367834292966068226     1614948483   \n",
       "3  from:medialab_ScPo  1367750981585354754     1614928620   \n",
       "4  from:medialab_ScPo  1366433462723436550     1614614499   \n",
       "\n",
       "            local_time user_screen_name  \\\n",
       "0  2021-03-16T16:42:34    medialab_ScPo   \n",
       "1  2021-03-15T10:32:30    medialab_ScPo   \n",
       "2  2021-03-05T13:48:03    medialab_ScPo   \n",
       "3  2021-03-05T08:17:00    medialab_ScPo   \n",
       "4  2021-03-01T17:01:39    medialab_ScPo   \n",
       "\n",
       "                                                text  possibly_sensitive  \\\n",
       "0  Mardi 23/03, @brunopatino est l'invité du sémi...                 0.0   \n",
       "1  Digital Growth Strategies : is there a new way...                 0.0   \n",
       "2  La Silicon Valley : un écosystème d’innovation...                 0.0   \n",
       "3  Aujourd'hui, 14h30 -> TransNum s'intéresse à l...                 0.0   \n",
       "4  Qu'est-ce qui fait de la Silicon Valley un mod...                 0.0   \n",
       "\n",
       "   retweet_count  like_count  reply_count  ...  \\\n",
       "0              7          13            0  ...   \n",
       "1              7          11            0  ...   \n",
       "2              0           1            1  ...   \n",
       "3              4           9            0  ...   \n",
       "4             10          13            0  ...   \n",
       "\n",
       "                                               links media_urls  media_files  \\\n",
       "0  https://medialab.sciencespo.fr/actu/lien-entre...        NaN          NaN   \n",
       "1  https://medialab.sciencespo.fr/en/news/digital...        NaN          NaN   \n",
       "2  https://sciencespo.zoom.us/meeting/register/tJ...        NaN          NaN   \n",
       "3  https://medialab.sciencespo.fr/actu/silicon-va...        NaN          NaN   \n",
       "4  https://medialab.sciencespo.fr/actu/silicon-va...        NaN          NaN   \n",
       "\n",
       "   media_types mentioned_names mentioned_ids hashtags  intervention_type  \\\n",
       "0          NaN     brunopatino      11227042      NaN                NaN   \n",
       "1          NaN             NaN           NaN      NaN                NaN   \n",
       "2          NaN             NaN           NaN      NaN                NaN   \n",
       "3          NaN             NaN           NaN      NaN                NaN   \n",
       "4          NaN             NaN           NaN      NaN                NaN   \n",
       "\n",
       "   intervention_text  intervention_url  \n",
       "0                NaN               NaN  \n",
       "1                NaN               NaN  \n",
       "2                NaN               NaN  \n",
       "3                NaN               NaN  \n",
       "4                NaN               NaN  \n",
       "\n",
       "[5 rows x 58 columns]"
      ]
     },
     "execution_count": 6,
     "metadata": {},
     "output_type": "execute_result"
    }
   ],
   "source": [
    "import pandas as pd\n",
    "\n",
    "df = pd.read_csv('./tweets.csv')\n",
    "df.head()"
   ]
  },
  {
   "cell_type": "markdown",
   "id": "seven-contrary",
   "metadata": {},
   "source": [
    "## Using minet as a python library\n",
    "\n",
    "Having been developped in python, `minet` can also be used as a python library if you ever need to. It can be useful if you need to integrate `minet` schemes into your own python worflow or just need to customize things. Just know that often the command line tool handles a lot of things for you that you will, as a result, need to handle yourself when working from python.\n",
    "\n",
    "The relevant documentation can be found [here](https://github.com/medialab/minet/blob/master/docs/lib.md).\n",
    "\n",
    "Here is an example of Twitter scraping directly from python:"
   ]
  },
  {
   "cell_type": "code",
   "execution_count": 7,
   "id": "further-plymouth",
   "metadata": {},
   "outputs": [],
   "source": [
    "from minet.twitter import TwitterAPIScraper"
   ]
  },
  {
   "cell_type": "code",
   "execution_count": 8,
   "id": "useful-virgin",
   "metadata": {},
   "outputs": [
    {
     "name": "stdout",
     "output_type": "stream",
     "text": [
      "Mardi 23/03, @brunopatino est l'invité du séminaire du médialab. A travers ses derniers ouvrages, il abordera les liens entre journalisme, information et environnement techno économique.\n",
      "Ouvert à tous, sur inscription : https://medialab.sciencespo.fr/actu/lien-entre-journalisme-information-et-environnement-techno-economique-le-cas-de-la-revolution-numerique/\n"
     ]
    }
   ],
   "source": [
    "scraper = TwitterAPIScraper()\n",
    "\n",
    "for tweet in scraper.search('from:medialab_ScPo'):\n",
    "    print(tweet['text'])\n",
    "    break"
   ]
  },
  {
   "cell_type": "markdown",
   "id": "requested-threshold",
   "metadata": {},
   "source": [
    "## Parting words\n",
    "\n",
    "Now you should have a clear idea of how to use `minet` from a Jupyter notebook, for your personal use or for students in a class, for instance.\n",
    "\n",
    "However, one should note that Jupyter notebooks, as wonderful as they are, are not a good way to industrialize data collection processes and are not meant to be long-running (e.g. when collecting Tweets, you might want to let your command run for days). For this kind of endeavours, traditional tools such as a Unix shells and some sysadmin skills can't be beaten.\n",
    "\n",
    "Finally, some `minet` commands might require that you given credentials to access some APIs (such as YouTube's one). Be sure not to publish those, for instance if you work on Google Collab, so that people won't steal them from you on the web.\n",
    "\n",
    "If you need to feed those commands with credentials differently, check out `minet` docs about config files and environment variables [here](https://github.com/medialab/minet/blob/master/docs/cli.md#minetrc). Note that both those options can be easy footguns on Google Collab also because leaving a config file in the open or having a cell setting a environment variable are not good solutions :)"
   ]
  }
 ],
 "metadata": {
  "kernelspec": {
   "display_name": "Python 3",
   "language": "python",
   "name": "python3"
  },
  "language_info": {
   "codemirror_mode": {
    "name": "ipython",
    "version": 3
   },
   "file_extension": ".py",
   "mimetype": "text/x-python",
   "name": "python",
   "nbconvert_exporter": "python",
   "pygments_lexer": "ipython3",
   "version": "3.6.10"
  }
 },
 "nbformat": 4,
 "nbformat_minor": 5
}
